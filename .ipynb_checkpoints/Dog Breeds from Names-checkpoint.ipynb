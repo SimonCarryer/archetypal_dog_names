{
 "cells": [
  {
   "cell_type": "code",
   "execution_count": 41,
   "metadata": {
    "collapsed": true
   },
   "outputs": [],
   "source": [
    "from tpot import TPOTClassifier\n",
    "from sklearn.model_selection import train_test_split\n",
    "from sklearn.feature_extraction.text import CountVectorizer\n"
   ]
  },
  {
   "cell_type": "code",
   "execution_count": 2,
   "metadata": {
    "collapsed": true
   },
   "outputs": [],
   "source": [
    "import pandas as pd"
   ]
  },
  {
   "cell_type": "code",
   "execution_count": 203,
   "metadata": {
    "collapsed": false
   },
   "outputs": [],
   "source": [
    "years = [pd.read_csv('%d.csv' % year) for year in range(2007, 2018)]\n",
    "\n",
    "df = pd.concat(years)\n",
    "\n",
    "df.DogName = df.DogName.apply(str.upper)"
   ]
  },
  {
   "cell_type": "code",
   "execution_count": 204,
   "metadata": {
    "collapsed": false
   },
   "outputs": [],
   "source": [
    "def no_mix(breed):\n",
    "    return breed.rstrip(' MIX')\n",
    "\n",
    "df['breed_no_mix'] = df.Breed.apply(no_mix)"
   ]
  },
  {
   "cell_type": "code",
   "execution_count": 205,
   "metadata": {
    "collapsed": false
   },
   "outputs": [],
   "source": [
    "breed_counts = df.breed_no_mix.value_counts()"
   ]
  },
  {
   "cell_type": "code",
   "execution_count": 206,
   "metadata": {
    "collapsed": false
   },
   "outputs": [],
   "source": [
    "name_counts = df.DogName.value_counts()"
   ]
  },
  {
   "cell_type": "code",
   "execution_count": 309,
   "metadata": {
    "collapsed": false
   },
   "outputs": [],
   "source": [
    "main_breeds = df[(df.breed_no_mix.map(breed_counts.to_dict()) > 500) \n",
    "                 & (df.Breed != 'MIXED')\n",
    "                & (df.DogName.map(name_counts.to_dict()) > 100) ]"
   ]
  },
  {
   "cell_type": "code",
   "execution_count": 310,
   "metadata": {
    "collapsed": false
   },
   "outputs": [
    {
     "data": {
      "text/html": [
       "<div>\n",
       "<style scoped>\n",
       "    .dataframe tbody tr th:only-of-type {\n",
       "        vertical-align: middle;\n",
       "    }\n",
       "\n",
       "    .dataframe tbody tr th {\n",
       "        vertical-align: top;\n",
       "    }\n",
       "\n",
       "    .dataframe thead th {\n",
       "        text-align: right;\n",
       "    }\n",
       "</style>\n",
       "<table border=\"1\" class=\"dataframe\">\n",
       "  <thead>\n",
       "    <tr style=\"text-align: right;\">\n",
       "      <th></th>\n",
       "      <th>LicenseType</th>\n",
       "      <th>Breed</th>\n",
       "      <th>Color</th>\n",
       "      <th>DogName</th>\n",
       "      <th>OwnerZip</th>\n",
       "      <th>ExpYear</th>\n",
       "      <th>ValidDate</th>\n",
       "      <th>breed_no_mix</th>\n",
       "    </tr>\n",
       "  </thead>\n",
       "  <tbody>\n",
       "    <tr>\n",
       "      <th>1</th>\n",
       "      <td>Dog Individual Female</td>\n",
       "      <td>AM PIT BULL TERRIER</td>\n",
       "      <td>BROWN</td>\n",
       "      <td>SABLE</td>\n",
       "      <td>15001</td>\n",
       "      <td>2007</td>\n",
       "      <td>5/1/2007 15:15</td>\n",
       "      <td>AM PIT BULL TERRIER</td>\n",
       "    </tr>\n",
       "    <tr>\n",
       "      <th>8</th>\n",
       "      <td>Dog Senior Citizen or Disability Spayed Female</td>\n",
       "      <td>POMERANIAN</td>\n",
       "      <td>TAN</td>\n",
       "      <td>TAFFY</td>\n",
       "      <td>15003</td>\n",
       "      <td>2007</td>\n",
       "      <td>3/12/2007 15:57</td>\n",
       "      <td>POMERANIAN</td>\n",
       "    </tr>\n",
       "    <tr>\n",
       "      <th>9</th>\n",
       "      <td>Dog Individual Spayed Female</td>\n",
       "      <td>BEAGLE</td>\n",
       "      <td>SPOTTED</td>\n",
       "      <td>BELLE</td>\n",
       "      <td>15003</td>\n",
       "      <td>2007</td>\n",
       "      <td>1/26/2007 9:24</td>\n",
       "      <td>BEAGLE</td>\n",
       "    </tr>\n",
       "    <tr>\n",
       "      <th>10</th>\n",
       "      <td>Dog Individual License Duplicate</td>\n",
       "      <td>BEAGLE</td>\n",
       "      <td>SPOTTED</td>\n",
       "      <td>BELLE</td>\n",
       "      <td>15003</td>\n",
       "      <td>2007</td>\n",
       "      <td>1/26/2007 9:47</td>\n",
       "      <td>BEAGLE</td>\n",
       "    </tr>\n",
       "    <tr>\n",
       "      <th>11</th>\n",
       "      <td>Dog Individual Female</td>\n",
       "      <td>AM ESKIMO DOG</td>\n",
       "      <td>WHITE</td>\n",
       "      <td>SASHA</td>\n",
       "      <td>15003</td>\n",
       "      <td>2007</td>\n",
       "      <td>5/25/2007 11:31</td>\n",
       "      <td>AM ESKIMO DOG</td>\n",
       "    </tr>\n",
       "  </tbody>\n",
       "</table>\n",
       "</div>"
      ],
      "text/plain": [
       "                                       LicenseType                Breed  \\\n",
       "1                            Dog Individual Female  AM PIT BULL TERRIER   \n",
       "8   Dog Senior Citizen or Disability Spayed Female           POMERANIAN   \n",
       "9                     Dog Individual Spayed Female               BEAGLE   \n",
       "10                Dog Individual License Duplicate               BEAGLE   \n",
       "11                           Dog Individual Female        AM ESKIMO DOG   \n",
       "\n",
       "      Color DogName  OwnerZip  ExpYear        ValidDate         breed_no_mix  \n",
       "1     BROWN   SABLE     15001     2007   5/1/2007 15:15  AM PIT BULL TERRIER  \n",
       "8       TAN   TAFFY     15003     2007  3/12/2007 15:57           POMERANIAN  \n",
       "9   SPOTTED   BELLE     15003     2007   1/26/2007 9:24               BEAGLE  \n",
       "10  SPOTTED   BELLE     15003     2007   1/26/2007 9:47               BEAGLE  \n",
       "11    WHITE   SASHA     15003     2007  5/25/2007 11:31        AM ESKIMO DOG  "
      ]
     },
     "execution_count": 310,
     "metadata": {},
     "output_type": "execute_result"
    }
   ],
   "source": []
  },
  {
   "cell_type": "code",
   "execution_count": 104,
   "metadata": {
    "collapsed": false
   },
   "outputs": [],
   "source": [
    "cv = CountVectorizer(analyzer='char_wb', ngram_range=(3,3), min_df = 100)\n",
    "\n",
    "features = cv.fit_transform(main_breeds.DogName)"
   ]
  },
  {
   "cell_type": "code",
   "execution_count": 105,
   "metadata": {
    "collapsed": false
   },
   "outputs": [
    {
     "name": "stdout",
     "output_type": "stream",
     "text": [
      "19 operators have been imported by TPOT.\n"
     ]
    }
   ],
   "source": [
    "pipeline_optimizer = TPOTClassifier(verbosity=3,\n",
    "                                    config_dict='TPOT light')\n",
    "\n",
    "X_train, X_test, y_train, y_test = train_test_split(features, main_breeds.breed_no_mix) "
   ]
  },
  {
   "cell_type": "code",
   "execution_count": 110,
   "metadata": {
    "collapsed": false
   },
   "outputs": [
    {
     "name": "stderr",
     "output_type": "stream",
     "text": [
      "                                                                                   "
     ]
    },
    {
     "name": "stdout",
     "output_type": "stream",
     "text": [
      "\n",
      "\n",
      "TPOT closed prematurely. Will use the current best pipeline.\n"
     ]
    },
    {
     "name": "stderr",
     "output_type": "stream",
     "text": [
      "\r"
     ]
    },
    {
     "ename": "RuntimeError",
     "evalue": "A pipeline has not yet been optimized. Please call fit() first.",
     "output_type": "error",
     "traceback": [
      "\u001b[0;31m---------------------------------------------------------------------------\u001b[0m",
      "\u001b[0;31mRuntimeError\u001b[0m                              Traceback (most recent call last)",
      "\u001b[0;32m<ipython-input-110-d5cfad3f8413>\u001b[0m in \u001b[0;36m<module>\u001b[0;34m()\u001b[0m\n\u001b[0;32m----> 1\u001b[0;31m \u001b[0mpipeline_optimizer\u001b[0m\u001b[0;34m.\u001b[0m\u001b[0mfit\u001b[0m\u001b[0;34m(\u001b[0m\u001b[0mX_train\u001b[0m\u001b[0;34m.\u001b[0m\u001b[0mtoarray\u001b[0m\u001b[0;34m(\u001b[0m\u001b[0;34m)\u001b[0m\u001b[0;34m,\u001b[0m \u001b[0my_train\u001b[0m\u001b[0;34m)\u001b[0m\u001b[0;34m\u001b[0m\u001b[0m\n\u001b[0m",
      "\u001b[0;32m/Library/Frameworks/Python.framework/Versions/2.7/lib/python2.7/site-packages/tpot/base.pyc\u001b[0m in \u001b[0;36mfit\u001b[0;34m(self, features, target, sample_weight, groups)\u001b[0m\n\u001b[1;32m    660\u001b[0m                     \u001b[0;31m# raise the exception if it's our last attempt\u001b[0m\u001b[0;34m\u001b[0m\u001b[0;34m\u001b[0m\u001b[0m\n\u001b[1;32m    661\u001b[0m                     \u001b[0;32mif\u001b[0m \u001b[0mattempt\u001b[0m \u001b[0;34m==\u001b[0m \u001b[0;34m(\u001b[0m\u001b[0mattempts\u001b[0m \u001b[0;34m-\u001b[0m \u001b[0;36m1\u001b[0m\u001b[0;34m)\u001b[0m\u001b[0;34m:\u001b[0m\u001b[0;34m\u001b[0m\u001b[0m\n\u001b[0;32m--> 662\u001b[0;31m                         \u001b[0;32mraise\u001b[0m \u001b[0me\u001b[0m\u001b[0;34m\u001b[0m\u001b[0m\n\u001b[0m\u001b[1;32m    663\u001b[0m             \u001b[0;32mreturn\u001b[0m \u001b[0mself\u001b[0m\u001b[0;34m\u001b[0m\u001b[0m\n\u001b[1;32m    664\u001b[0m \u001b[0;34m\u001b[0m\u001b[0m\n",
      "\u001b[0;31mRuntimeError\u001b[0m: A pipeline has not yet been optimized. Please call fit() first."
     ]
    }
   ],
   "source": [
    "pipeline_optimizer.fit(X_train.toarray(), y_train)"
   ]
  },
  {
   "cell_type": "code",
   "execution_count": null,
   "metadata": {
    "collapsed": true
   },
   "outputs": [],
   "source": [
    "pipeline_optimizer.score()"
   ]
  },
  {
   "cell_type": "code",
   "execution_count": 91,
   "metadata": {
    "collapsed": true
   },
   "outputs": [],
   "source": [
    "from sklearn.linear_model import LogisticRegression"
   ]
  },
  {
   "cell_type": "code",
   "execution_count": 106,
   "metadata": {
    "collapsed": false
   },
   "outputs": [
    {
     "data": {
      "text/plain": [
       "LogisticRegression(C=1.0, class_weight='balanced', dual=False,\n",
       "          fit_intercept=True, intercept_scaling=1, max_iter=100,\n",
       "          multi_class='ovr', n_jobs=1, penalty='l2', random_state=None,\n",
       "          solver='liblinear', tol=0.0001, verbose=0, warm_start=False)"
      ]
     },
     "execution_count": 106,
     "metadata": {},
     "output_type": "execute_result"
    }
   ],
   "source": [
    "bob_log = LogisticRegression(class_weight='balanced')\n",
    "\n",
    "bob_log.fit(X_train, y_train)"
   ]
  },
  {
   "cell_type": "code",
   "execution_count": 107,
   "metadata": {
    "collapsed": false
   },
   "outputs": [
    {
     "data": {
      "text/plain": [
       "0.10246734397677794"
      ]
     },
     "execution_count": 107,
     "metadata": {},
     "output_type": "execute_result"
    }
   ],
   "source": [
    "bob_log.score(X_test, y_test)"
   ]
  },
  {
   "cell_type": "code",
   "execution_count": 108,
   "metadata": {
    "collapsed": false
   },
   "outputs": [
    {
     "data": {
      "text/plain": [
       "array(['SIB HUSKY', 'TAG', 'CHIHUAHUA', ..., 'CHIHUAHUA', 'CHIHUAHUA',\n",
       "       'DACHSHUND'], dtype=object)"
      ]
     },
     "execution_count": 108,
     "metadata": {},
     "output_type": "execute_result"
    }
   ],
   "source": [
    "bob_log.predict(X_test)"
   ]
  },
  {
   "cell_type": "code",
   "execution_count": 109,
   "metadata": {
    "collapsed": false
   },
   "outputs": [
    {
     "data": {
      "text/plain": [
       "<27559x376 sparse matrix of type '<type 'numpy.int64'>'\n",
       "\twith 95151 stored elements in Compressed Sparse Row format>"
      ]
     },
     "execution_count": 109,
     "metadata": {},
     "output_type": "execute_result"
    }
   ],
   "source": [
    "features"
   ]
  },
  {
   "cell_type": "code",
   "execution_count": 236,
   "metadata": {
    "collapsed": false
   },
   "outputs": [],
   "source": [
    "name_prop = main_breeds.DogName.value_counts()/len(main_breeds)"
   ]
  },
  {
   "cell_type": "code",
   "execution_count": 237,
   "metadata": {
    "collapsed": false
   },
   "outputs": [],
   "source": [
    "count_filter = main_breeds.groupby(['breed_no_mix', 'DogName'])['LicenseType'].count() >= 10"
   ]
  },
  {
   "cell_type": "code",
   "execution_count": 238,
   "metadata": {
    "collapsed": false
   },
   "outputs": [],
   "source": [
    "breed_proportions = main_breeds.groupby(['breed_no_mix', 'DogName'])['LicenseType'].count()/main_breeds.groupby('breed_no_mix')['LicenseType'].count()"
   ]
  },
  {
   "cell_type": "code",
   "execution_count": 239,
   "metadata": {
    "collapsed": false
   },
   "outputs": [],
   "source": [
    "breed_proportions = breed_proportions[count_filter]"
   ]
  },
  {
   "cell_type": "code",
   "execution_count": 240,
   "metadata": {
    "collapsed": false
   },
   "outputs": [
    {
     "data": {
      "text/html": [
       "<div>\n",
       "<style scoped>\n",
       "    .dataframe tbody tr th:only-of-type {\n",
       "        vertical-align: middle;\n",
       "    }\n",
       "\n",
       "    .dataframe tbody tr th {\n",
       "        vertical-align: top;\n",
       "    }\n",
       "\n",
       "    .dataframe thead th {\n",
       "        text-align: right;\n",
       "    }\n",
       "</style>\n",
       "<table border=\"1\" class=\"dataframe\">\n",
       "  <thead>\n",
       "    <tr style=\"text-align: right;\">\n",
       "      <th></th>\n",
       "      <th>breed_no_mix</th>\n",
       "      <th>DogName</th>\n",
       "      <th>0</th>\n",
       "    </tr>\n",
       "  </thead>\n",
       "  <tbody>\n",
       "    <tr>\n",
       "      <th>142</th>\n",
       "      <td>AM PIT BULL TERRIER</td>\n",
       "      <td>MOLLY</td>\n",
       "      <td>-7.092801</td>\n",
       "    </tr>\n",
       "    <tr>\n",
       "      <th>131</th>\n",
       "      <td>AM PIT BULL TERRIER</td>\n",
       "      <td>MAGGIE</td>\n",
       "      <td>-6.107242</td>\n",
       "    </tr>\n",
       "    <tr>\n",
       "      <th>204</th>\n",
       "      <td>AM PIT BULL TERRIER</td>\n",
       "      <td>TOBY</td>\n",
       "      <td>-3.742046</td>\n",
       "    </tr>\n",
       "    <tr>\n",
       "      <th>103</th>\n",
       "      <td>AM PIT BULL TERRIER</td>\n",
       "      <td>JACK</td>\n",
       "      <td>-3.451040</td>\n",
       "    </tr>\n",
       "    <tr>\n",
       "      <th>3728</th>\n",
       "      <td>SHIH TZU</td>\n",
       "      <td>JAKE</td>\n",
       "      <td>-3.410901</td>\n",
       "    </tr>\n",
       "    <tr>\n",
       "      <th>778</th>\n",
       "      <td>BOXER</td>\n",
       "      <td>ANGEL</td>\n",
       "      <td>-3.193605</td>\n",
       "    </tr>\n",
       "    <tr>\n",
       "      <th>3707</th>\n",
       "      <td>SHIH TZU</td>\n",
       "      <td>DUKE</td>\n",
       "      <td>-3.040194</td>\n",
       "    </tr>\n",
       "    <tr>\n",
       "      <th>3669</th>\n",
       "      <td>SHIH TZU</td>\n",
       "      <td>BEAR</td>\n",
       "      <td>-2.976986</td>\n",
       "    </tr>\n",
       "    <tr>\n",
       "      <th>2574</th>\n",
       "      <td>LABRADOR RETRIEVER</td>\n",
       "      <td>BABY</td>\n",
       "      <td>-2.878976</td>\n",
       "    </tr>\n",
       "    <tr>\n",
       "      <th>1068</th>\n",
       "      <td>CHIHUAHUA</td>\n",
       "      <td>DUKE</td>\n",
       "      <td>-2.601129</td>\n",
       "    </tr>\n",
       "    <tr>\n",
       "      <th>3452</th>\n",
       "      <td>ROTTWEILER</td>\n",
       "      <td>BAILEY</td>\n",
       "      <td>-2.458531</td>\n",
       "    </tr>\n",
       "    <tr>\n",
       "      <th>64</th>\n",
       "      <td>AM PIT BULL TERRIER</td>\n",
       "      <td>CHLOE</td>\n",
       "      <td>-2.407890</td>\n",
       "    </tr>\n",
       "    <tr>\n",
       "      <th>1843</th>\n",
       "      <td>GER SHEPHERD</td>\n",
       "      <td>SAMMY</td>\n",
       "      <td>-2.395472</td>\n",
       "    </tr>\n",
       "    <tr>\n",
       "      <th>2945</th>\n",
       "      <td>LABRADOR RETRIEVER</td>\n",
       "      <td>SPIKE</td>\n",
       "      <td>-2.335585</td>\n",
       "    </tr>\n",
       "    <tr>\n",
       "      <th>2420</th>\n",
       "      <td>LAB</td>\n",
       "      <td>OSCAR</td>\n",
       "      <td>-2.277456</td>\n",
       "    </tr>\n",
       "    <tr>\n",
       "      <th>785</th>\n",
       "      <td>BOXER</td>\n",
       "      <td>BEAR</td>\n",
       "      <td>-2.262542</td>\n",
       "    </tr>\n",
       "    <tr>\n",
       "      <th>869</th>\n",
       "      <td>BOXER</td>\n",
       "      <td>LUCKY</td>\n",
       "      <td>-2.252859</td>\n",
       "    </tr>\n",
       "    <tr>\n",
       "      <th>129</th>\n",
       "      <td>AM PIT BULL TERRIER</td>\n",
       "      <td>LUCY</td>\n",
       "      <td>-2.194683</td>\n",
       "    </tr>\n",
       "    <tr>\n",
       "      <th>329</th>\n",
       "      <td>BEAGLE</td>\n",
       "      <td>BEAR</td>\n",
       "      <td>-2.102977</td>\n",
       "    </tr>\n",
       "    <tr>\n",
       "      <th>31</th>\n",
       "      <td>AM PIT BULL TERRIER</td>\n",
       "      <td>BAILEY</td>\n",
       "      <td>-2.100076</td>\n",
       "    </tr>\n",
       "    <tr>\n",
       "      <th>1952</th>\n",
       "      <td>GOLDEN RETRIEVER</td>\n",
       "      <td>BUSTER</td>\n",
       "      <td>-2.077207</td>\n",
       "    </tr>\n",
       "    <tr>\n",
       "      <th>1882</th>\n",
       "      <td>GER SHEPHERD</td>\n",
       "      <td>TOBY</td>\n",
       "      <td>-2.000614</td>\n",
       "    </tr>\n",
       "    <tr>\n",
       "      <th>59</th>\n",
       "      <td>AM PIT BULL TERRIER</td>\n",
       "      <td>CHARLIE</td>\n",
       "      <td>-1.922623</td>\n",
       "    </tr>\n",
       "    <tr>\n",
       "      <th>2720</th>\n",
       "      <td>LABRADOR RETRIEVER</td>\n",
       "      <td>HEIDI</td>\n",
       "      <td>-1.921450</td>\n",
       "    </tr>\n",
       "    <tr>\n",
       "      <th>2859</th>\n",
       "      <td>LABRADOR RETRIEVER</td>\n",
       "      <td>PEANUT</td>\n",
       "      <td>-1.920777</td>\n",
       "    </tr>\n",
       "    <tr>\n",
       "      <th>2314</th>\n",
       "      <td>LAB</td>\n",
       "      <td>GIZMO</td>\n",
       "      <td>-1.889800</td>\n",
       "    </tr>\n",
       "    <tr>\n",
       "      <th>1808</th>\n",
       "      <td>GER SHEPHERD</td>\n",
       "      <td>PEANUT</td>\n",
       "      <td>-1.854765</td>\n",
       "    </tr>\n",
       "    <tr>\n",
       "      <th>1674</th>\n",
       "      <td>GER SHEPHERD</td>\n",
       "      <td>DAISY</td>\n",
       "      <td>-1.854243</td>\n",
       "    </tr>\n",
       "    <tr>\n",
       "      <th>582</th>\n",
       "      <td>BEAGLE</td>\n",
       "      <td>TEDDY</td>\n",
       "      <td>-1.854170</td>\n",
       "    </tr>\n",
       "    <tr>\n",
       "      <th>1453</th>\n",
       "      <td>DACHSHUND</td>\n",
       "      <td>JAKE</td>\n",
       "      <td>-1.847786</td>\n",
       "    </tr>\n",
       "    <tr>\n",
       "      <th>...</th>\n",
       "      <td>...</td>\n",
       "      <td>...</td>\n",
       "      <td>...</td>\n",
       "    </tr>\n",
       "    <tr>\n",
       "      <th>3912</th>\n",
       "      <td>SIB HUSKY</td>\n",
       "      <td>TIKAANI</td>\n",
       "      <td>0.982466</td>\n",
       "    </tr>\n",
       "    <tr>\n",
       "      <th>3659</th>\n",
       "      <td>SHIBA INU</td>\n",
       "      <td>SUKI</td>\n",
       "      <td>0.982549</td>\n",
       "    </tr>\n",
       "    <tr>\n",
       "      <th>992</th>\n",
       "      <td>CAIRN TERRIER</td>\n",
       "      <td>TOTO</td>\n",
       "      <td>0.982740</td>\n",
       "    </tr>\n",
       "    <tr>\n",
       "      <th>4111</th>\n",
       "      <td>WEIMARANER</td>\n",
       "      <td>JEZEBEL</td>\n",
       "      <td>0.983174</td>\n",
       "    </tr>\n",
       "    <tr>\n",
       "      <th>3027</th>\n",
       "      <td>MALTESE</td>\n",
       "      <td>BERRY</td>\n",
       "      <td>0.983585</td>\n",
       "    </tr>\n",
       "    <tr>\n",
       "      <th>3168</th>\n",
       "      <td>PARSON RUSSELL TERR</td>\n",
       "      <td>J. J.</td>\n",
       "      <td>0.985154</td>\n",
       "    </tr>\n",
       "    <tr>\n",
       "      <th>3263</th>\n",
       "      <td>POMERANIAN</td>\n",
       "      <td>KENO ROBINSON</td>\n",
       "      <td>0.985492</td>\n",
       "    </tr>\n",
       "    <tr>\n",
       "      <th>19</th>\n",
       "      <td>AM ESKIMO DOG</td>\n",
       "      <td>FROSTY</td>\n",
       "      <td>0.985516</td>\n",
       "    </tr>\n",
       "    <tr>\n",
       "      <th>3359</th>\n",
       "      <td>POODLE TOY</td>\n",
       "      <td>MISS MOLLY</td>\n",
       "      <td>0.985980</td>\n",
       "    </tr>\n",
       "    <tr>\n",
       "      <th>4</th>\n",
       "      <td>AKITA</td>\n",
       "      <td>KUMA</td>\n",
       "      <td>0.986256</td>\n",
       "    </tr>\n",
       "    <tr>\n",
       "      <th>2181</th>\n",
       "      <td>HOUND</td>\n",
       "      <td>ASPEN</td>\n",
       "      <td>0.986503</td>\n",
       "    </tr>\n",
       "    <tr>\n",
       "      <th>3209</th>\n",
       "      <td>PARSON RUSSELL TERR</td>\n",
       "      <td>TORTIA</td>\n",
       "      <td>0.986503</td>\n",
       "    </tr>\n",
       "    <tr>\n",
       "      <th>1533</th>\n",
       "      <td>DALMATIAN</td>\n",
       "      <td>DOMINO</td>\n",
       "      <td>0.987091</td>\n",
       "    </tr>\n",
       "    <tr>\n",
       "      <th>723</th>\n",
       "      <td>BORD COLLIE</td>\n",
       "      <td>P.D.</td>\n",
       "      <td>0.987861</td>\n",
       "    </tr>\n",
       "    <tr>\n",
       "      <th>266</th>\n",
       "      <td>AUS CATTLE DOG</td>\n",
       "      <td>DINGO</td>\n",
       "      <td>0.988763</td>\n",
       "    </tr>\n",
       "    <tr>\n",
       "      <th>271</th>\n",
       "      <td>AUS SHEPHERD</td>\n",
       "      <td>AUSSIE</td>\n",
       "      <td>0.990183</td>\n",
       "    </tr>\n",
       "    <tr>\n",
       "      <th>3142</th>\n",
       "      <td>OTHER</td>\n",
       "      <td>NO NAME</td>\n",
       "      <td>0.990291</td>\n",
       "    </tr>\n",
       "    <tr>\n",
       "      <th>3015</th>\n",
       "      <td>LHASA APSO</td>\n",
       "      <td>TASHI</td>\n",
       "      <td>0.990677</td>\n",
       "    </tr>\n",
       "    <tr>\n",
       "      <th>972</th>\n",
       "      <td>BRITTANY SPANIEL</td>\n",
       "      <td>T-BONE</td>\n",
       "      <td>0.991562</td>\n",
       "    </tr>\n",
       "    <tr>\n",
       "      <th>2545</th>\n",
       "      <td>LABRADOODLE</td>\n",
       "      <td>BONNIE BLUE</td>\n",
       "      <td>0.992784</td>\n",
       "    </tr>\n",
       "    <tr>\n",
       "      <th>3358</th>\n",
       "      <td>POODLE TOY</td>\n",
       "      <td>MAXWELL HOUSE</td>\n",
       "      <td>0.992990</td>\n",
       "    </tr>\n",
       "    <tr>\n",
       "      <th>280</th>\n",
       "      <td>AUS SHEPHERD</td>\n",
       "      <td>LAURIE</td>\n",
       "      <td>0.993455</td>\n",
       "    </tr>\n",
       "    <tr>\n",
       "      <th>2128</th>\n",
       "      <td>GOLDENDOODLE</td>\n",
       "      <td>CHA CHA LOYA</td>\n",
       "      <td>0.993598</td>\n",
       "    </tr>\n",
       "    <tr>\n",
       "      <th>3143</th>\n",
       "      <td>OTHER</td>\n",
       "      <td>NO NAME GIVEN</td>\n",
       "      <td>0.993998</td>\n",
       "    </tr>\n",
       "    <tr>\n",
       "      <th>3658</th>\n",
       "      <td>SHIBA INU</td>\n",
       "      <td>SHIBA</td>\n",
       "      <td>0.994882</td>\n",
       "    </tr>\n",
       "    <tr>\n",
       "      <th>20</th>\n",
       "      <td>AM ESKIMO DOG</td>\n",
       "      <td>GLACIER</td>\n",
       "      <td>0.995084</td>\n",
       "    </tr>\n",
       "    <tr>\n",
       "      <th>969</th>\n",
       "      <td>BRITTANY SPANIEL</td>\n",
       "      <td>JOSEY ROSE</td>\n",
       "      <td>0.995559</td>\n",
       "    </tr>\n",
       "    <tr>\n",
       "      <th>1920</th>\n",
       "      <td>GOLDEN RETRIEV</td>\n",
       "      <td>LADIE</td>\n",
       "      <td>0.996244</td>\n",
       "    </tr>\n",
       "    <tr>\n",
       "      <th>3329</th>\n",
       "      <td>POODLE MIN</td>\n",
       "      <td>TASTEY CAKES</td>\n",
       "      <td>0.996743</td>\n",
       "    </tr>\n",
       "    <tr>\n",
       "      <th>3654</th>\n",
       "      <td>SHIBA INU</td>\n",
       "      <td>CINDERELLIE</td>\n",
       "      <td>0.997185</td>\n",
       "    </tr>\n",
       "  </tbody>\n",
       "</table>\n",
       "<p>4299 rows × 3 columns</p>\n",
       "</div>"
      ],
      "text/plain": [
       "             breed_no_mix        DogName         0\n",
       "142   AM PIT BULL TERRIER          MOLLY -7.092801\n",
       "131   AM PIT BULL TERRIER         MAGGIE -6.107242\n",
       "204   AM PIT BULL TERRIER           TOBY -3.742046\n",
       "103   AM PIT BULL TERRIER           JACK -3.451040\n",
       "3728             SHIH TZU           JAKE -3.410901\n",
       "778                 BOXER          ANGEL -3.193605\n",
       "3707             SHIH TZU           DUKE -3.040194\n",
       "3669             SHIH TZU           BEAR -2.976986\n",
       "2574   LABRADOR RETRIEVER           BABY -2.878976\n",
       "1068            CHIHUAHUA           DUKE -2.601129\n",
       "3452           ROTTWEILER         BAILEY -2.458531\n",
       "64    AM PIT BULL TERRIER          CHLOE -2.407890\n",
       "1843         GER SHEPHERD          SAMMY -2.395472\n",
       "2945   LABRADOR RETRIEVER          SPIKE -2.335585\n",
       "2420                  LAB          OSCAR -2.277456\n",
       "785                 BOXER           BEAR -2.262542\n",
       "869                 BOXER          LUCKY -2.252859\n",
       "129   AM PIT BULL TERRIER           LUCY -2.194683\n",
       "329                BEAGLE           BEAR -2.102977\n",
       "31    AM PIT BULL TERRIER         BAILEY -2.100076\n",
       "1952     GOLDEN RETRIEVER         BUSTER -2.077207\n",
       "1882         GER SHEPHERD           TOBY -2.000614\n",
       "59    AM PIT BULL TERRIER        CHARLIE -1.922623\n",
       "2720   LABRADOR RETRIEVER          HEIDI -1.921450\n",
       "2859   LABRADOR RETRIEVER         PEANUT -1.920777\n",
       "2314                  LAB          GIZMO -1.889800\n",
       "1808         GER SHEPHERD         PEANUT -1.854765\n",
       "1674         GER SHEPHERD          DAISY -1.854243\n",
       "582                BEAGLE          TEDDY -1.854170\n",
       "1453            DACHSHUND           JAKE -1.847786\n",
       "...                   ...            ...       ...\n",
       "3912            SIB HUSKY        TIKAANI  0.982466\n",
       "3659            SHIBA INU           SUKI  0.982549\n",
       "992         CAIRN TERRIER           TOTO  0.982740\n",
       "4111           WEIMARANER        JEZEBEL  0.983174\n",
       "3027              MALTESE          BERRY  0.983585\n",
       "3168  PARSON RUSSELL TERR          J. J.  0.985154\n",
       "3263           POMERANIAN  KENO ROBINSON  0.985492\n",
       "19          AM ESKIMO DOG         FROSTY  0.985516\n",
       "3359           POODLE TOY     MISS MOLLY  0.985980\n",
       "4                   AKITA           KUMA  0.986256\n",
       "2181                HOUND          ASPEN  0.986503\n",
       "3209  PARSON RUSSELL TERR         TORTIA  0.986503\n",
       "1533            DALMATIAN         DOMINO  0.987091\n",
       "723           BORD COLLIE           P.D.  0.987861\n",
       "266        AUS CATTLE DOG          DINGO  0.988763\n",
       "271          AUS SHEPHERD         AUSSIE  0.990183\n",
       "3142                OTHER        NO NAME  0.990291\n",
       "3015           LHASA APSO          TASHI  0.990677\n",
       "972      BRITTANY SPANIEL         T-BONE  0.991562\n",
       "2545          LABRADOODLE    BONNIE BLUE  0.992784\n",
       "3358           POODLE TOY  MAXWELL HOUSE  0.992990\n",
       "280          AUS SHEPHERD         LAURIE  0.993455\n",
       "2128         GOLDENDOODLE   CHA CHA LOYA  0.993598\n",
       "3143                OTHER  NO NAME GIVEN  0.993998\n",
       "3658            SHIBA INU          SHIBA  0.994882\n",
       "20          AM ESKIMO DOG        GLACIER  0.995084\n",
       "969      BRITTANY SPANIEL     JOSEY ROSE  0.995559\n",
       "1920       GOLDEN RETRIEV          LADIE  0.996244\n",
       "3329           POODLE MIN   TASTEY CAKES  0.996743\n",
       "3654            SHIBA INU    CINDERELLIE  0.997185\n",
       "\n",
       "[4299 rows x 3 columns]"
      ]
     },
     "execution_count": 240,
     "metadata": {},
     "output_type": "execute_result"
    }
   ],
   "source": [
    "pd.DataFrame(breed_proportions.subtract(name_prop, level='DogName').divide(breed_proportions)).reset_index().sort_values(by=0)\n"
   ]
  },
  {
   "cell_type": "code",
   "execution_count": 182,
   "metadata": {
    "collapsed": true
   },
   "outputs": [],
   "source": [
    "from scipy.stats import chisquare"
   ]
  },
  {
   "cell_type": "code",
   "execution_count": 194,
   "metadata": {
    "collapsed": false
   },
   "outputs": [
    {
     "data": {
      "text/plain": [
       "Power_divergenceResult(statistic=98686.285279397533, pvalue=0.0)"
      ]
     },
     "execution_count": 194,
     "metadata": {},
     "output_type": "execute_result"
    }
   ],
   "source": [
    "breed = 'CHIHUAHUA'\n",
    "\n",
    "name = 'COOPER'\n",
    "\n",
    "filtered = df[df['breed_no_mix'] == breed]\n",
    "  \n",
    "f_obs = [(filtered.DogName == name).sum(), (filtered.DogName != name).sum()]\n",
    "\n",
    "f_exp = [(df.DogName == name).sum(), (df.DogName != name).sum()]\n",
    "\n",
    "chisquare(f_obs, f_exp)"
   ]
  },
  {
   "cell_type": "code",
   "execution_count": 256,
   "metadata": {
    "collapsed": false
   },
   "outputs": [],
   "source": [
    "f_obs = (in_breed / len(in_breed)).values\n",
    "\n",
    "f_exp = (all_breeds / len(in_breed)).values"
   ]
  },
  {
   "cell_type": "code",
   "execution_count": 257,
   "metadata": {
    "collapsed": false
   },
   "outputs": [
    {
     "data": {
      "text/plain": [
       "Power_divergenceResult(statistic=275.81147120854649, pvalue=0.013180549431962316)"
      ]
     },
     "execution_count": 257,
     "metadata": {},
     "output_type": "execute_result"
    }
   ],
   "source": [
    "all_breeds = main_breeds.groupby('DogName')['LicenseType'].count()[in_breed.index]\n",
    "\n",
    "chisquare(f_obs, f_exp)"
   ]
  },
  {
   "cell_type": "code",
   "execution_count": 339,
   "metadata": {
    "collapsed": false
   },
   "outputs": [],
   "source": [
    "names_by_breed = main_breeds.groupby(['breed_no_mix', 'DogName'])['LicenseType'].count()\n",
    "names = main_breeds.groupby('DogName')['DogName'].count()\n",
    "breeds = main_breeds.groupby('breed_no_mix')['breed_no_mix'].count()\n",
    "tabulated = pd.DataFrame(names_by_breed).join(names).join(breeds)\n",
    "tabulated.columns = ['name_in_breed', 'name_total', 'breed_total']\n",
    "tabulated['total_dogs'] = len(main_breeds)\n",
    "tabulated['name_not_breed'] = tabulated.name_total - tabulated.name_in_breed\n",
    "tabulated['breed_not_name'] = tabulated.breed_total - tabulated.name_in_breed\n",
    "tabulated['not_name_not_breed'] = tabulated.total_dogs - tabulated.name_not_breed\n",
    "tabulated['breed_odds'] = tabulated.name_in_breed/tabulated.breed_not_name\n",
    "tabulated['not_breed_odds'] = tabulated.name_not_breed/tabulated.not_name_not_breed\n",
    "tabulated['odds_ratio'] = tabulated.breed_odds/tabulated.not_breed_odds"
   ]
  },
  {
   "cell_type": "code",
   "execution_count": 344,
   "metadata": {
    "collapsed": false
   },
   "outputs": [
    {
     "ename": "ValueError",
     "evalue": "Shape of passed values is (10, 2), indices imply (10, 10)",
     "output_type": "error",
     "traceback": [
      "\u001b[0;31m---------------------------------------------------------------------------\u001b[0m",
      "\u001b[0;31mValueError\u001b[0m                                Traceback (most recent call last)",
      "\u001b[0;32m<ipython-input-344-0c700c7ecabf>\u001b[0m in \u001b[0;36m<module>\u001b[0;34m()\u001b[0m\n\u001b[1;32m      3\u001b[0m                               [row.breed_not_name, row.not_name_not_breed]]\n\u001b[1;32m      4\u001b[0m                             ),\n\u001b[0;32m----> 5\u001b[0;31m                 \u001b[0maxis\u001b[0m\u001b[0;34m=\u001b[0m\u001b[0;36m1\u001b[0m\u001b[0;34m\u001b[0m\u001b[0m\n\u001b[0m\u001b[1;32m      6\u001b[0m                 )\n",
      "\u001b[0;32m/Library/Frameworks/Python.framework/Versions/2.7/lib/python2.7/site-packages/pandas/core/frame.pyc\u001b[0m in \u001b[0;36mapply\u001b[0;34m(self, func, axis, broadcast, raw, reduce, args, **kwds)\u001b[0m\n\u001b[1;32m   4875\u001b[0m         \u001b[0magg_axis\u001b[0m \u001b[0;34m=\u001b[0m \u001b[0mframe\u001b[0m\u001b[0;34m.\u001b[0m\u001b[0m_get_agg_axis\u001b[0m\u001b[0;34m(\u001b[0m\u001b[0maxis\u001b[0m\u001b[0;34m)\u001b[0m\u001b[0;34m\u001b[0m\u001b[0m\n\u001b[1;32m   4876\u001b[0m \u001b[0;34m\u001b[0m\u001b[0m\n\u001b[0;32m-> 4877\u001b[0;31m         \u001b[0;32mif\u001b[0m \u001b[0;32mnot\u001b[0m \u001b[0misinstance\u001b[0m\u001b[0;34m(\u001b[0m\u001b[0mcount_axis\u001b[0m\u001b[0;34m,\u001b[0m \u001b[0mMultiIndex\u001b[0m\u001b[0;34m)\u001b[0m\u001b[0;34m:\u001b[0m\u001b[0;34m\u001b[0m\u001b[0m\n\u001b[0m\u001b[1;32m   4878\u001b[0m             raise TypeError(\"Can only count levels on hierarchical %s.\" %\n\u001b[1;32m   4879\u001b[0m                             self._get_axis_name(axis))\n",
      "\u001b[0;32m/Library/Frameworks/Python.framework/Versions/2.7/lib/python2.7/site-packages/pandas/core/frame.pyc\u001b[0m in \u001b[0;36m_apply_standard\u001b[0;34m(self, func, axis, ignore_failures, reduce)\u001b[0m\n\u001b[1;32m   4988\u001b[0m \u001b[0;34m\u001b[0m\u001b[0m\n\u001b[1;32m   4989\u001b[0m         \u001b[0mParameters\u001b[0m\u001b[0;34m\u001b[0m\u001b[0m\n\u001b[0;32m-> 4990\u001b[0;31m         \u001b[0;34m-\u001b[0m\u001b[0;34m-\u001b[0m\u001b[0;34m-\u001b[0m\u001b[0;34m-\u001b[0m\u001b[0;34m-\u001b[0m\u001b[0;34m-\u001b[0m\u001b[0;34m-\u001b[0m\u001b[0;34m-\u001b[0m\u001b[0;34m-\u001b[0m\u001b[0;34m-\u001b[0m\u001b[0;34m\u001b[0m\u001b[0m\n\u001b[0m\u001b[1;32m   4991\u001b[0m         \u001b[0maxis\u001b[0m \u001b[0;34m:\u001b[0m \u001b[0;34m{\u001b[0m\u001b[0;36m0\u001b[0m \u001b[0;32mor\u001b[0m \u001b[0;34m'index'\u001b[0m\u001b[0;34m,\u001b[0m \u001b[0;36m1\u001b[0m \u001b[0;32mor\u001b[0m \u001b[0;34m'columns'\u001b[0m\u001b[0;34m}\u001b[0m\u001b[0;34m,\u001b[0m \u001b[0mdefault\u001b[0m \u001b[0;36m0\u001b[0m\u001b[0;34m\u001b[0m\u001b[0m\n\u001b[1;32m   4992\u001b[0m             \u001b[0;36m0\u001b[0m \u001b[0;32mor\u001b[0m \u001b[0;34m'index'\u001b[0m \u001b[0;32mfor\u001b[0m \u001b[0mrow\u001b[0m\u001b[0;34m-\u001b[0m\u001b[0mwise\u001b[0m\u001b[0;34m,\u001b[0m \u001b[0;36m1\u001b[0m \u001b[0;32mor\u001b[0m \u001b[0;34m'columns'\u001b[0m \u001b[0;32mfor\u001b[0m \u001b[0mcolumn\u001b[0m\u001b[0;34m-\u001b[0m\u001b[0mwise\u001b[0m\u001b[0;34m\u001b[0m\u001b[0m\n",
      "\u001b[0;32m/Library/Frameworks/Python.framework/Versions/2.7/lib/python2.7/site-packages/pandas/core/frame.pyc\u001b[0m in \u001b[0;36m__init__\u001b[0;34m(self, data, index, columns, dtype, copy)\u001b[0m\n\u001b[1;32m    328\u001b[0m                 \u001b[0marr\u001b[0m \u001b[0;34m=\u001b[0m \u001b[0mnp\u001b[0m\u001b[0;34m.\u001b[0m\u001b[0marray\u001b[0m\u001b[0;34m(\u001b[0m\u001b[0mdata\u001b[0m\u001b[0;34m,\u001b[0m \u001b[0mdtype\u001b[0m\u001b[0;34m=\u001b[0m\u001b[0mdtype\u001b[0m\u001b[0;34m,\u001b[0m \u001b[0mcopy\u001b[0m\u001b[0;34m=\u001b[0m\u001b[0mcopy\u001b[0m\u001b[0;34m)\u001b[0m\u001b[0;34m\u001b[0m\u001b[0m\n\u001b[1;32m    329\u001b[0m             \u001b[0;32mexcept\u001b[0m \u001b[0;34m(\u001b[0m\u001b[0mValueError\u001b[0m\u001b[0;34m,\u001b[0m \u001b[0mTypeError\u001b[0m\u001b[0;34m)\u001b[0m \u001b[0;32mas\u001b[0m \u001b[0me\u001b[0m\u001b[0;34m:\u001b[0m\u001b[0;34m\u001b[0m\u001b[0m\n\u001b[0;32m--> 330\u001b[0;31m                 exc = TypeError('DataFrame constructor called with '\n\u001b[0m\u001b[1;32m    331\u001b[0m                                 'incompatible data and dtype: %s' % e)\n\u001b[1;32m    332\u001b[0m                 \u001b[0mraise_with_traceback\u001b[0m\u001b[0;34m(\u001b[0m\u001b[0mexc\u001b[0m\u001b[0;34m)\u001b[0m\u001b[0;34m\u001b[0m\u001b[0m\n",
      "\u001b[0;32m/Library/Frameworks/Python.framework/Versions/2.7/lib/python2.7/site-packages/pandas/core/frame.pyc\u001b[0m in \u001b[0;36m_init_dict\u001b[0;34m(self, data, index, columns, dtype)\u001b[0m\n\u001b[1;32m    459\u001b[0m                     \u001b[0mvalues\u001b[0m \u001b[0;34m=\u001b[0m \u001b[0mvalues\u001b[0m\u001b[0;34m.\u001b[0m\u001b[0mastype\u001b[0m\u001b[0;34m(\u001b[0m\u001b[0mdtype\u001b[0m\u001b[0;34m)\u001b[0m\u001b[0;34m\u001b[0m\u001b[0m\n\u001b[1;32m    460\u001b[0m                 \u001b[0;32mexcept\u001b[0m \u001b[0mException\u001b[0m \u001b[0;32mas\u001b[0m \u001b[0morig\u001b[0m\u001b[0;34m:\u001b[0m\u001b[0;34m\u001b[0m\u001b[0m\n\u001b[0;32m--> 461\u001b[0;31m                     e = ValueError(\"failed to cast to '%s' (Exception was: %s)\"\n\u001b[0m\u001b[1;32m    462\u001b[0m                                    % (dtype, orig))\n\u001b[1;32m    463\u001b[0m                     \u001b[0mraise_with_traceback\u001b[0m\u001b[0;34m(\u001b[0m\u001b[0me\u001b[0m\u001b[0;34m)\u001b[0m\u001b[0;34m\u001b[0m\u001b[0m\n",
      "\u001b[0;32m/Library/Frameworks/Python.framework/Versions/2.7/lib/python2.7/site-packages/pandas/core/frame.pyc\u001b[0m in \u001b[0;36m_arrays_to_mgr\u001b[0;34m(arrays, arr_names, index, columns, dtype)\u001b[0m\n",
      "\u001b[0;32m/Library/Frameworks/Python.framework/Versions/2.7/lib/python2.7/site-packages/pandas/core/internals.pyc\u001b[0m in \u001b[0;36mcreate_block_manager_from_arrays\u001b[0;34m(arrays, names, axes)\u001b[0m\n\u001b[1;32m   4640\u001b[0m \u001b[0;32mdef\u001b[0m \u001b[0m_get_blkno_placements\u001b[0m\u001b[0;34m(\u001b[0m\u001b[0mblknos\u001b[0m\u001b[0;34m,\u001b[0m \u001b[0mblk_count\u001b[0m\u001b[0;34m,\u001b[0m \u001b[0mgroup\u001b[0m\u001b[0;34m=\u001b[0m\u001b[0mTrue\u001b[0m\u001b[0;34m)\u001b[0m\u001b[0;34m:\u001b[0m\u001b[0;34m\u001b[0m\u001b[0m\n\u001b[1;32m   4641\u001b[0m     \"\"\"\n\u001b[0;32m-> 4642\u001b[0;31m \u001b[0;34m\u001b[0m\u001b[0m\n\u001b[0m\u001b[1;32m   4643\u001b[0m     \u001b[0mParameters\u001b[0m\u001b[0;34m\u001b[0m\u001b[0m\n\u001b[1;32m   4644\u001b[0m     \u001b[0;34m-\u001b[0m\u001b[0;34m-\u001b[0m\u001b[0;34m-\u001b[0m\u001b[0;34m-\u001b[0m\u001b[0;34m-\u001b[0m\u001b[0;34m-\u001b[0m\u001b[0;34m-\u001b[0m\u001b[0;34m-\u001b[0m\u001b[0;34m-\u001b[0m\u001b[0;34m-\u001b[0m\u001b[0;34m\u001b[0m\u001b[0m\n",
      "\u001b[0;32m/Library/Frameworks/Python.framework/Versions/2.7/lib/python2.7/site-packages/pandas/core/internals.pyc\u001b[0m in \u001b[0;36mconstruction_error\u001b[0;34m(tot_items, block_shape, axes, e)\u001b[0m\n\u001b[1;32m   4606\u001b[0m     \u001b[0mpanel_shape\u001b[0m \u001b[0;34m=\u001b[0m \u001b[0;34m(\u001b[0m\u001b[0mlen\u001b[0m\u001b[0;34m(\u001b[0m\u001b[0mplacement\u001b[0m\u001b[0;34m)\u001b[0m\u001b[0;34m,\u001b[0m\u001b[0;34m)\u001b[0m \u001b[0;34m+\u001b[0m \u001b[0mshape\u001b[0m\u001b[0;34m\u001b[0m\u001b[0m\n\u001b[1;32m   4607\u001b[0m \u001b[0;34m\u001b[0m\u001b[0m\n\u001b[0;32m-> 4608\u001b[0;31m     \u001b[0;31m# TODO: lexsort depth needs to be 2!!\u001b[0m\u001b[0;34m\u001b[0m\u001b[0;34m\u001b[0m\u001b[0m\n\u001b[0m\u001b[1;32m   4609\u001b[0m \u001b[0;34m\u001b[0m\u001b[0m\n\u001b[1;32m   4610\u001b[0m     \u001b[0;31m# Create observation selection vector using major and minor\u001b[0m\u001b[0;34m\u001b[0m\u001b[0;34m\u001b[0m\u001b[0m\n",
      "\u001b[0;31mValueError\u001b[0m: Shape of passed values is (10, 2), indices imply (10, 10)"
     ]
    }
   ],
   "source": [
    "tabulated.sample(10).apply(\n",
    "                lambda row: fisher_exact(\n",
    "                                [[row.name_in_breed, row.name_not_breed],\n",
    "                                [row.breed_not_name, row.not_name_not_breed]]),\n",
    "                            axis=1\n",
    "                            )"
   ]
  },
  {
   "cell_type": "code",
   "execution_count": 311,
   "metadata": {
    "collapsed": false
   },
   "outputs": [
    {
     "ename": "KeyboardInterrupt",
     "evalue": "",
     "output_type": "error",
     "traceback": [
      "\u001b[0;31m---------------------------------------------------------------------------\u001b[0m",
      "\u001b[0;31mKeyboardInterrupt\u001b[0m                         Traceback (most recent call last)",
      "\u001b[0;32m<ipython-input-311-c5ce0f68ac67>\u001b[0m in \u001b[0;36m<module>\u001b[0;34m()\u001b[0m\n\u001b[1;32m      7\u001b[0m     \u001b[0;32mfor\u001b[0m \u001b[0mname\u001b[0m \u001b[0;32min\u001b[0m \u001b[0mmain_breeds\u001b[0m\u001b[0;34m.\u001b[0m\u001b[0mDogName\u001b[0m\u001b[0;34m.\u001b[0m\u001b[0munique\u001b[0m\u001b[0;34m(\u001b[0m\u001b[0;34m)\u001b[0m\u001b[0;34m:\u001b[0m\u001b[0;34m\u001b[0m\u001b[0m\n\u001b[1;32m      8\u001b[0m         \u001b[0mname_breed\u001b[0m \u001b[0;34m=\u001b[0m \u001b[0mmain_breeds\u001b[0m\u001b[0;34m[\u001b[0m\u001b[0;34m(\u001b[0m\u001b[0mmain_breeds\u001b[0m\u001b[0;34m.\u001b[0m\u001b[0mDogName\u001b[0m \u001b[0;34m==\u001b[0m \u001b[0mname\u001b[0m\u001b[0;34m)\u001b[0m \u001b[0;34m&\u001b[0m \u001b[0;34m(\u001b[0m\u001b[0mmain_breeds\u001b[0m\u001b[0;34m.\u001b[0m\u001b[0mbreed_no_mix\u001b[0m \u001b[0;34m==\u001b[0m \u001b[0mbreed\u001b[0m\u001b[0;34m)\u001b[0m\u001b[0;34m]\u001b[0m\u001b[0;34m[\u001b[0m\u001b[0;34m'LicenseType'\u001b[0m\u001b[0;34m]\u001b[0m\u001b[0;34m.\u001b[0m\u001b[0mcount\u001b[0m\u001b[0;34m(\u001b[0m\u001b[0;34m)\u001b[0m\u001b[0;34m\u001b[0m\u001b[0m\n\u001b[0;32m----> 9\u001b[0;31m         \u001b[0mname_not_breed\u001b[0m \u001b[0;34m=\u001b[0m \u001b[0mmain_breeds\u001b[0m\u001b[0;34m[\u001b[0m\u001b[0;34m(\u001b[0m\u001b[0mmain_breeds\u001b[0m\u001b[0;34m.\u001b[0m\u001b[0mDogName\u001b[0m \u001b[0;34m==\u001b[0m \u001b[0mname\u001b[0m\u001b[0;34m)\u001b[0m \u001b[0;34m&\u001b[0m \u001b[0;34m(\u001b[0m\u001b[0mmain_breeds\u001b[0m\u001b[0;34m.\u001b[0m\u001b[0mbreed_no_mix\u001b[0m \u001b[0;34m!=\u001b[0m \u001b[0mbreed\u001b[0m\u001b[0;34m)\u001b[0m\u001b[0;34m]\u001b[0m\u001b[0;34m[\u001b[0m\u001b[0;34m'LicenseType'\u001b[0m\u001b[0;34m]\u001b[0m\u001b[0;34m.\u001b[0m\u001b[0mcount\u001b[0m\u001b[0;34m(\u001b[0m\u001b[0;34m)\u001b[0m\u001b[0;34m\u001b[0m\u001b[0m\n\u001b[0m\u001b[1;32m     10\u001b[0m         \u001b[0mnot_name_breed\u001b[0m \u001b[0;34m=\u001b[0m \u001b[0mmain_breeds\u001b[0m\u001b[0;34m[\u001b[0m\u001b[0;34m(\u001b[0m\u001b[0mmain_breeds\u001b[0m\u001b[0;34m.\u001b[0m\u001b[0mDogName\u001b[0m \u001b[0;34m!=\u001b[0m \u001b[0mname\u001b[0m\u001b[0;34m)\u001b[0m \u001b[0;34m&\u001b[0m \u001b[0;34m(\u001b[0m\u001b[0mmain_breeds\u001b[0m\u001b[0;34m.\u001b[0m\u001b[0mbreed_no_mix\u001b[0m \u001b[0;34m==\u001b[0m \u001b[0mbreed\u001b[0m\u001b[0;34m)\u001b[0m\u001b[0;34m]\u001b[0m\u001b[0;34m[\u001b[0m\u001b[0;34m'LicenseType'\u001b[0m\u001b[0;34m]\u001b[0m\u001b[0;34m.\u001b[0m\u001b[0mcount\u001b[0m\u001b[0;34m(\u001b[0m\u001b[0;34m)\u001b[0m\u001b[0;34m\u001b[0m\u001b[0m\n\u001b[1;32m     11\u001b[0m         \u001b[0mnot_name_not_breed\u001b[0m \u001b[0;34m=\u001b[0m \u001b[0mmain_breeds\u001b[0m\u001b[0;34m[\u001b[0m\u001b[0;34m(\u001b[0m\u001b[0mmain_breeds\u001b[0m\u001b[0;34m.\u001b[0m\u001b[0mDogName\u001b[0m \u001b[0;34m!=\u001b[0m \u001b[0mname\u001b[0m\u001b[0;34m)\u001b[0m \u001b[0;34m&\u001b[0m \u001b[0;34m(\u001b[0m\u001b[0mmain_breeds\u001b[0m\u001b[0;34m.\u001b[0m\u001b[0mbreed_no_mix\u001b[0m \u001b[0;34m!=\u001b[0m \u001b[0mbreed\u001b[0m\u001b[0;34m)\u001b[0m\u001b[0;34m]\u001b[0m\u001b[0;34m[\u001b[0m\u001b[0;34m'LicenseType'\u001b[0m\u001b[0;34m]\u001b[0m\u001b[0;34m.\u001b[0m\u001b[0mcount\u001b[0m\u001b[0;34m(\u001b[0m\u001b[0;34m)\u001b[0m\u001b[0;34m\u001b[0m\u001b[0m\n",
      "\u001b[0;32m/Library/Frameworks/Python.framework/Versions/2.7/lib/python2.7/site-packages/pandas/core/ops.pyc\u001b[0m in \u001b[0;36mwrapper\u001b[0;34m(self, other, axis)\u001b[0m\n\u001b[1;32m    877\u001b[0m             \u001b[0mresult\u001b[0m \u001b[0;34m=\u001b[0m \u001b[0mop\u001b[0m\u001b[0;34m(\u001b[0m\u001b[0mx\u001b[0m\u001b[0;34m,\u001b[0m \u001b[0my\u001b[0m\u001b[0;34m)\u001b[0m\u001b[0;34m\u001b[0m\u001b[0m\n\u001b[1;32m    878\u001b[0m         \u001b[0;32mexcept\u001b[0m \u001b[0mTypeError\u001b[0m\u001b[0;34m:\u001b[0m\u001b[0;34m\u001b[0m\u001b[0m\n\u001b[0;32m--> 879\u001b[0;31m             \u001b[0;32mif\u001b[0m \u001b[0misinstance\u001b[0m\u001b[0;34m(\u001b[0m\u001b[0my\u001b[0m\u001b[0;34m,\u001b[0m \u001b[0mlist\u001b[0m\u001b[0;34m)\u001b[0m\u001b[0;34m:\u001b[0m\u001b[0;34m\u001b[0m\u001b[0m\n\u001b[0m\u001b[1;32m    880\u001b[0m                 \u001b[0my\u001b[0m \u001b[0;34m=\u001b[0m \u001b[0mlib\u001b[0m\u001b[0;34m.\u001b[0m\u001b[0mlist_to_object_array\u001b[0m\u001b[0;34m(\u001b[0m\u001b[0my\u001b[0m\u001b[0;34m)\u001b[0m\u001b[0;34m\u001b[0m\u001b[0m\n\u001b[1;32m    881\u001b[0m \u001b[0;34m\u001b[0m\u001b[0m\n",
      "\u001b[0;32m/Library/Frameworks/Python.framework/Versions/2.7/lib/python2.7/site-packages/pandas/core/ops.pyc\u001b[0m in \u001b[0;36mna_op\u001b[0;34m(x, y)\u001b[0m\n\u001b[1;32m    781\u001b[0m \u001b[0;34m\u001b[0m\u001b[0m\n\u001b[1;32m    782\u001b[0m                 \u001b[0;32mif\u001b[0m \u001b[0misscalar\u001b[0m\u001b[0;34m(\u001b[0m\u001b[0my\u001b[0m\u001b[0;34m)\u001b[0m\u001b[0;34m:\u001b[0m\u001b[0;34m\u001b[0m\u001b[0m\n\u001b[0;32m--> 783\u001b[0;31m                     \u001b[0mmask\u001b[0m \u001b[0;34m=\u001b[0m \u001b[0misnull\u001b[0m\u001b[0;34m(\u001b[0m\u001b[0mx\u001b[0m\u001b[0;34m)\u001b[0m\u001b[0;34m\u001b[0m\u001b[0m\n\u001b[0m\u001b[1;32m    784\u001b[0m                     \u001b[0my\u001b[0m \u001b[0;34m=\u001b[0m \u001b[0m_index\u001b[0m\u001b[0;34m.\u001b[0m\u001b[0mconvert_scalar\u001b[0m\u001b[0;34m(\u001b[0m\u001b[0mx\u001b[0m\u001b[0;34m,\u001b[0m \u001b[0m_values_from_object\u001b[0m\u001b[0;34m(\u001b[0m\u001b[0my\u001b[0m\u001b[0;34m)\u001b[0m\u001b[0;34m)\u001b[0m\u001b[0;34m\u001b[0m\u001b[0m\n\u001b[1;32m    785\u001b[0m                 \u001b[0;32melse\u001b[0m\u001b[0;34m:\u001b[0m\u001b[0;34m\u001b[0m\u001b[0m\n",
      "\u001b[0;32m/Library/Frameworks/Python.framework/Versions/2.7/lib/python2.7/site-packages/pandas/core/ops.pyc\u001b[0m in \u001b[0;36m_comp_method_OBJECT_ARRAY\u001b[0;34m(op, x, y)\u001b[0m\n\u001b[1;32m    761\u001b[0m \u001b[0;34m\u001b[0m\u001b[0m\n\u001b[1;32m    762\u001b[0m             \u001b[0;31m# we want to compare like types\u001b[0m\u001b[0;34m\u001b[0m\u001b[0;34m\u001b[0m\u001b[0m\n\u001b[0;32m--> 763\u001b[0;31m             \u001b[0;31m# we only want to convert to integer like if\u001b[0m\u001b[0;34m\u001b[0m\u001b[0;34m\u001b[0m\u001b[0m\n\u001b[0m\u001b[1;32m    764\u001b[0m             \u001b[0;31m# we are not NotImplemented, otherwise\u001b[0m\u001b[0;34m\u001b[0m\u001b[0;34m\u001b[0m\u001b[0m\n\u001b[1;32m    765\u001b[0m             \u001b[0;31m# we would allow datetime64 (but viewed as i8) against\u001b[0m\u001b[0;34m\u001b[0m\u001b[0;34m\u001b[0m\u001b[0m\n",
      "\u001b[0;31mKeyboardInterrupt\u001b[0m: "
     ]
    }
   ],
   "source": [
    "from scipy.stats import fisher_exact\n",
    "\n",
    "breed_name_pairs = []\n",
    "\n",
    "counter = 0\n",
    "for breed in main_breeds.breed_no_mix.unique():\n",
    "    for name in main_breeds.DogName.unique():\n",
    "        name_breed = main_breeds[(main_breeds.DogName == name) & (main_breeds.breed_no_mix == breed)]['LicenseType'].count()\n",
    "        name_not_breed = main_breeds[(main_breeds.DogName == name) & (main_breeds.breed_no_mix != breed)]['LicenseType'].count()\n",
    "        not_name_breed = main_breeds[(main_breeds.DogName != name) & (main_breeds.breed_no_mix == breed)]['LicenseType'].count()\n",
    "        not_name_not_breed = main_breeds[(main_breeds.DogName != name) & (main_breeds.breed_no_mix != breed)]['LicenseType'].count()\n",
    "\n",
    "        table = [[name_breed, not_name_breed], [name_not_breed, not_name_not_breed]]\n",
    "\n",
    "        ratio, p_value = fisher_exact(table, alternative='two-sided')\n",
    "        breed_name_pairs.append({'breed': breed,\n",
    "                                'name': name,\n",
    "                                 'ratio': ratio,\n",
    "                                 'p_value': p_value\n",
    "                                })\n",
    "        "
   ]
  },
  {
   "cell_type": "code",
   "execution_count": null,
   "metadata": {
    "collapsed": false
   },
   "outputs": [],
   "source": [
    "odds_ratios = pd.DataFrame(breed_name_pairs)"
   ]
  },
  {
   "cell_type": "code",
   "execution_count": null,
   "metadata": {
    "collapsed": false,
    "scrolled": true
   },
   "outputs": [],
   "source": [
    "odds_ratios[(odds_ratios.p_value < 0.1) & (odds_ratios.breed == 'BEAGLE')].sort_values(by='ratio')"
   ]
  },
  {
   "cell_type": "code",
   "execution_count": null,
   "metadata": {
    "collapsed": true
   },
   "outputs": [],
   "source": []
  }
 ],
 "metadata": {
  "kernelspec": {
   "display_name": "Python 2",
   "language": "python",
   "name": "python2"
  },
  "language_info": {
   "codemirror_mode": {
    "name": "ipython",
    "version": 2
   },
   "file_extension": ".py",
   "mimetype": "text/x-python",
   "name": "python",
   "nbconvert_exporter": "python",
   "pygments_lexer": "ipython2",
   "version": "2.7.9"
  }
 },
 "nbformat": 4,
 "nbformat_minor": 0
}
